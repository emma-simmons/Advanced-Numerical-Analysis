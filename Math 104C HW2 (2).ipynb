{
 "cells": [
  {
   "cell_type": "markdown",
   "metadata": {},
   "source": [
    "Emma Simmons, Last Modified:4/29/21"
   ]
  },
  {
   "cell_type": "code",
   "execution_count": 1,
   "metadata": {},
   "outputs": [],
   "source": [
    "import math\n",
    "import numpy as np \n",
    "from numpy import log as ln\n",
    "import matplotlib.pyplot as plt\n",
    "import pandas as pd"
   ]
  },
  {
   "cell_type": "markdown",
   "metadata": {},
   "source": [
    "$\\textbf{Question 1 Part (a)}$ Solve $u'(t)=1+\\frac{u}{t}$, $u(1)=2$. <br> <br>"
   ]
  },
  {
   "cell_type": "markdown",
   "metadata": {},
   "source": [
    "First, rewrite the differential equation. <br>\n",
    "$u'-\\frac{1}{t}u=1$<br>\n",
    "Then find the integrating factor.<br>\n",
    "$\\mu(t)=e^{\\int-\\frac{1}{t}}=e^{-\\ln(x)}=e^{\\ln(\\frac{1}{x})}= \\frac{1}{x}$<br>\n",
    "Multiplying everything by $\\mu(t)$, we get <br>\n",
    "$u'\\frac{1}{t}-\\frac{1}{t^2}u=\\frac{1}{t}$<br>\n",
    "The left side can be rewritten using the definition of product rule.<br>\n",
    "$(u\\frac{1}{t})'=\\frac{1}{t}$<br>\n",
    "Taking the integral of both sides, <br>\n",
    "$\\int{(u*\\frac{1}{t})'dt}=\\int{\\frac{1}{t}dt}$<br>\n",
    "$u\\frac{1}{t}=\\ln{t}+C$<br>\n",
    "$u(t)=t\\ln(t)+Ct$ <br>\n",
    "Plugging in the initial value $u(1)=2$,<br>\n",
    "$u(1)=2=1*\\ln(1)+C*1$<br>\n",
    "$C=2$<br>\n",
    "So, <br>\n",
    "$u(t)=t\\ln(t)+2t$\n"
   ]
  },
  {
   "cell_type": "markdown",
   "metadata": {},
   "source": [
    "$\\textbf{Question 1 Part (b)}$ Fourth-order Runge Kutta method for $u'(t)=1+\\frac{u}{t}$, $u(1)=2, 1\\leq t\\leq2$"
   ]
  },
  {
   "cell_type": "code",
   "execution_count": 2,
   "metadata": {},
   "outputs": [],
   "source": [
    "# defines the function f(t,u) for problem 1\n",
    "# inputs: t is time, u is the variable \n",
    "# outputs: the value of f at a given t and u\n",
    "def f1(t,u):\n",
    "    return (1+(u/t))\n",
    "\n",
    "#defines u(t), the exact solution for problem 1 \n",
    "#input: t is time\n",
    "#output: returns the value of u at a given t \n",
    "def u_exact(t):\n",
    "    return t*ln(t)+2*t\n",
    "\n",
    "# defines the fourth order runge kutta method \n",
    "# inputs: f is the function, u0 is the initial condition, t0 is the lower bound for t, T is the upper bound for t, \n",
    "# k is step size  \n",
    "# outputs: the  k value and the corresponding error for k \n",
    "def RK4(f, u0, t0, T, k):\n",
    "    N=int(1/k)\n",
    "    t=np.linspace(t0,T,N+1)\n",
    "    u=np.zeros(N+1)\n",
    "    u[0]=u0\n",
    "    t[0]=t0\n",
    "    for i in range(N):\n",
    "        un=u[i]\n",
    "        tn=t[i]\n",
    "        K1=f(tn,un)\n",
    "        K2=f(tn+(1/2)*k,un+(1/2)*k*K1)\n",
    "        K3=f(tn+(1/2)*k,un+(1/2)*k*K2)\n",
    "        K4=f(tn+k,un+(k*K3))\n",
    "        u[i+1]=u[i]+(k/6)*(K1+2*K2+2*K3+K4)\n",
    "    e=abs(u_exact(t)-u)\n",
    "    ek=max(e)\n",
    "    return [k, ek]"
   ]
  },
  {
   "cell_type": "code",
   "execution_count": 3,
   "metadata": {},
   "outputs": [
    {
     "data": {
      "text/html": [
       "<div>\n",
       "<style scoped>\n",
       "    .dataframe tbody tr th:only-of-type {\n",
       "        vertical-align: middle;\n",
       "    }\n",
       "\n",
       "    .dataframe tbody tr th {\n",
       "        vertical-align: top;\n",
       "    }\n",
       "\n",
       "    .dataframe thead th {\n",
       "        text-align: right;\n",
       "    }\n",
       "</style>\n",
       "<table border=\"1\" class=\"dataframe\">\n",
       "  <thead>\n",
       "    <tr style=\"text-align: right;\">\n",
       "      <th></th>\n",
       "      <th>$k$</th>\n",
       "      <th>$e_k$</th>\n",
       "    </tr>\n",
       "  </thead>\n",
       "  <tbody>\n",
       "    <tr>\n",
       "      <th>0</th>\n",
       "      <td>0.200</td>\n",
       "      <td>2.202588e-05</td>\n",
       "    </tr>\n",
       "    <tr>\n",
       "      <th>1</th>\n",
       "      <td>0.100</td>\n",
       "      <td>1.474767e-06</td>\n",
       "    </tr>\n",
       "    <tr>\n",
       "      <th>2</th>\n",
       "      <td>0.050</td>\n",
       "      <td>9.501746e-08</td>\n",
       "    </tr>\n",
       "    <tr>\n",
       "      <th>3</th>\n",
       "      <td>0.025</td>\n",
       "      <td>6.022819e-09</td>\n",
       "    </tr>\n",
       "  </tbody>\n",
       "</table>\n",
       "</div>"
      ],
      "text/plain": [
       "     $k$         $e_k$\n",
       "0  0.200  2.202588e-05\n",
       "1  0.100  1.474767e-06\n",
       "2  0.050  9.501746e-08\n",
       "3  0.025  6.022819e-09"
      ]
     },
     "execution_count": 3,
     "metadata": {},
     "output_type": "execute_result"
    }
   ],
   "source": [
    "k_values=[0.2,0.1,0.05,0.025]\n",
    "data_RK4=[RK4(f1, 2, 1, 2, k) for k in k_values]\n",
    "pd.DataFrame(data_RK4, columns=[\"$k$\", \"$e_k$\"])"
   ]
  },
  {
   "cell_type": "markdown",
   "metadata": {},
   "source": [
    "$\\textbf{Question 1 Part (c)}$ Second-order Runge Kutta method for $u'(t)=1+\\frac{u}{t}$, $u(1)=2, 1\\leq t\\leq2$"
   ]
  },
  {
   "cell_type": "code",
   "execution_count": 4,
   "metadata": {},
   "outputs": [],
   "source": [
    "# defines the second order runge kutta method \n",
    "# inputs: f is the function, u0 is the initial condition, t0 is the lower bound for t, T is the upper bound for t, \n",
    "# k is step size  \n",
    "# outputs: the  k value and the corresponding error for k \n",
    "def RK2(f, u0, t0, T, k):\n",
    "    N=int(1/k)\n",
    "    t=np.linspace(t0,T,N+1)\n",
    "    u=np.zeros(N+1)\n",
    "    u[0]=u0\n",
    "    t[0]=t0\n",
    "    for i in range(N):\n",
    "        un=u[i]\n",
    "        tn=t[i]\n",
    "        K1=f(tn,un)\n",
    "        K2=f(tn+k,un+k*K1)\n",
    "        u[i+1]=u[i]+(k/2)*(K1+K2)\n",
    "    e=abs(u_exact(t)-u)\n",
    "    ek=max(e)\n",
    "    return [k, ek]\n",
    "    \n",
    "        \n",
    "        "
   ]
  },
  {
   "cell_type": "code",
   "execution_count": 5,
   "metadata": {},
   "outputs": [
    {
     "data": {
      "text/html": [
       "<div>\n",
       "<style scoped>\n",
       "    .dataframe tbody tr th:only-of-type {\n",
       "        vertical-align: middle;\n",
       "    }\n",
       "\n",
       "    .dataframe tbody tr th {\n",
       "        vertical-align: top;\n",
       "    }\n",
       "\n",
       "    .dataframe thead th {\n",
       "        text-align: right;\n",
       "    }\n",
       "</style>\n",
       "<table border=\"1\" class=\"dataframe\">\n",
       "  <thead>\n",
       "    <tr style=\"text-align: right;\">\n",
       "      <th></th>\n",
       "      <th>$k$</th>\n",
       "      <th>$e_k$</th>\n",
       "    </tr>\n",
       "  </thead>\n",
       "  <tbody>\n",
       "    <tr>\n",
       "      <th>0</th>\n",
       "      <td>0.200</td>\n",
       "      <td>0.008868</td>\n",
       "    </tr>\n",
       "    <tr>\n",
       "      <th>1</th>\n",
       "      <td>0.100</td>\n",
       "      <td>0.002356</td>\n",
       "    </tr>\n",
       "    <tr>\n",
       "      <th>2</th>\n",
       "      <td>0.050</td>\n",
       "      <td>0.000607</td>\n",
       "    </tr>\n",
       "    <tr>\n",
       "      <th>3</th>\n",
       "      <td>0.025</td>\n",
       "      <td>0.000154</td>\n",
       "    </tr>\n",
       "  </tbody>\n",
       "</table>\n",
       "</div>"
      ],
      "text/plain": [
       "     $k$     $e_k$\n",
       "0  0.200  0.008868\n",
       "1  0.100  0.002356\n",
       "2  0.050  0.000607\n",
       "3  0.025  0.000154"
      ]
     },
     "execution_count": 5,
     "metadata": {},
     "output_type": "execute_result"
    }
   ],
   "source": [
    "k_values=[0.2,0.1,0.05,0.025]\n",
    "data_RK2=[RK2(f1, 2, 1, 2, k) for k in k_values]\n",
    "pd.DataFrame(data_RK2, columns=[\"$k$\", \"$e_k$\"])"
   ]
  },
  {
   "cell_type": "markdown",
   "metadata": {},
   "source": [
    "$\\textbf{Question 2 Part (a)}$ Solving the model problem for the following two-step method.<br><br>\n",
    "$U^{n+2}-\\frac{3}{2}U^{n+1}+\\frac{1}{2}U^n=k(\\frac{5}{4}f_{n+1}-\\frac{3}{4}f_n)$ "
   ]
  },
  {
   "cell_type": "code",
   "execution_count": 6,
   "metadata": {},
   "outputs": [],
   "source": [
    "#defines u(t), the exact solution for problem 2 \n",
    "#input: t is time\n",
    "#output: returns the value of u at a given t \n",
    "def u_exact(t):\n",
    "    return np.exp(t)\n",
    "\n",
    "# defines the function f(t,u) for problem 2\n",
    "# inputs: t is time, u is the variable \n",
    "# outputs: the value of f at a given t and u\n",
    "def f2(t, u):\n",
    "    return u\n",
    "\n",
    "# defines the two step method for problem 2, part (a)\n",
    "# inputs: f is the function, u0 is the initial condition, t0 is the lower bound for t, T is the upper bound for t, \n",
    "# k is step size  \n",
    "# outputs: the vector of u values \n",
    "def twostep_1(f, u0, t0, T, k):\n",
    "    N=int(1/k)\n",
    "    t=np.linspace(t0, T, N+1)\n",
    "    u=np.zeros(N+1)\n",
    "    u[0]=u0\n",
    "    t[0]=t0\n",
    "    u[1]=np.exp(k)\n",
    "    for i in range(N-1):\n",
    "        u[i+2]=(3/2)*(u[i+1])-(1/2)*u[i]+k*((5/4)*f2(t[i+1], u[i+1])-(3/4)*f2(t[i], u[i]))\n",
    "    return u"
   ]
  },
  {
   "cell_type": "code",
   "execution_count": 7,
   "metadata": {},
   "outputs": [
    {
     "data": {
      "image/png": "[encoded data removed]",
      "text/plain": [
       "<Figure size 432x288 with 1 Axes>"
      ]
     },
     "metadata": {
      "needs_background": "light"
     },
     "output_type": "display_data"
    }
   ],
   "source": [
    "k=0.01\n",
    "N=int(1/k)\n",
    "t=np.linspace(0, 1, N+1)\n",
    "plt.plot(t, twostep_1(f2, 1, 0, 1, 0.01))\n",
    "plt.plot(t, u_exact(t),linestyle='dashed')\n",
    "plt.legend([\"numerical approximation\", \"exact solution\"], loc =\"lower right\")\n",
    "plt.show()"
   ]
  },
  {
   "cell_type": "markdown",
   "metadata": {},
   "source": [
    "$\\textbf{Question 2 Part (b)}$ Solving the model problem for the following two-step method.<br><br> $U^{n+2}-3U^{n+1}+2U^n=k(\\frac{1}{2}f_{n+1}-\\frac{3}{2}f_n)$"
   ]
  },
  {
   "cell_type": "code",
   "execution_count": 8,
   "metadata": {},
   "outputs": [],
   "source": [
    "# defines the two step method for problem 2, part (b)\n",
    "# inputs: f is the function, u0 is the initial condition, t0 is the lower bound for t, T is the upper bound for t, \n",
    "# k is step size  \n",
    "# outputs: the vector of u values \n",
    "def twostep_2(f, u0, t0, T, k):\n",
    "    N=int(1/k)\n",
    "    t=np.linspace(t0, T, N+1)\n",
    "    u=np.zeros(N+1)\n",
    "    u[0]=u0\n",
    "    t[0]=t0\n",
    "    u[1]=np.exp(k)\n",
    "    for i in range(N-1):\n",
    "        u[i+2]=3*(u[i+1])-2*u[i]+k*((1/2)*f2(t[i+1], u[i+1])-(3/2)*f2(t[i], u[i]))\n",
    "    return u"
   ]
  },
  {
   "cell_type": "code",
   "execution_count": 9,
   "metadata": {},
   "outputs": [
    {
     "data": {
      "image/png": "[encoded data removed]",
      "text/plain": [
       "<Figure size 432x288 with 1 Axes>"
      ]
     },
     "metadata": {
      "needs_background": "light"
     },
     "output_type": "display_data"
    }
   ],
   "source": [
    "k=0.01\n",
    "N=int(1/k)\n",
    "t=np.linspace(0, 1, N+1)\n",
    "plt.ylim([-3,3])\n",
    "plt.plot(t, twostep_2(f2, 1, 0, 1, 0.01))\n",
    "plt.plot(t, u_exact(t))\n",
    "plt.legend([\"numerical approximation\", \"exact solution\"], loc =\"lower right\")\n",
    "plt.show()"
   ]
  },
  {
   "cell_type": "markdown",
   "metadata": {},
   "source": [
    "$\\textbf{Question 2 Part (c)}$"
   ]
  },
  {
   "cell_type": "markdown",
   "metadata": {},
   "source": [
    "In the graph in part (a), the numerical solution and the exact solution are very similar and follow the same line, so we can see that the numerical solution for (a) converges. In part (b), as t gets larger, the numerical and exact solution become very different, with the numerical solution going towards negative infinity, showing that the numerical method in part (b) diverges. We can verify this using zero-stability. <br><br>\n",
    "First, we will check $U^{n+2}-\\frac{3}{2}U^{n+1}+\\frac{1}{2}U^n=k(\\frac{5}{4}f_{n+1}-\\frac{3}{4}f_n)$ is consistent.<br>\n",
    "For part (a), the characteristic polynomials of $U^{n+2}-\\frac{3}{2}U^{n+1}+\\frac{1}{2}U^n=k(\\frac{5}{4}f_{n+1}-\\frac{3}{4}f_n)$ are <br><br>\n",
    "$\\rho(\\xi)=\\xi^2-\\frac{3}{2}\\xi+\\frac{1}{2}$ and $\\sigma(\\xi)=\\frac{5}{4}\\xi-\\frac{3}{4}$<br><br>\n",
    "$\\rho(1)=1^2-\\frac{3}{2}*1+\\frac{1}{2}=-\\frac{1}{2}+\\frac{1}{2}=0$<br>\n",
    "$\\rho'(1)=2*1-\\frac{3}{2}= \\frac{1}{2}=\\frac{5}{4}*1-\\frac{3}{4}=\\sigma(1)$<br>\n",
    "So, the two-step method for part (a) is consistent. <br><br>\n",
    "$\\rho(\\xi)=\\xi^2-\\frac{3}{2}\\xi+\\frac{1}{2}$ has roots $\\xi_1=\\frac{1}{2}$ and $\\xi_2=1$. <br><br>\n",
    "Since $\\mid \\xi_1 \\mid =\\frac{1}{2} \\leq 1$ and $\\mid \\xi_2 \\mid=1 \\leq 1$, we know that the two-step method in part (a) is consistent and zero-stable and therefore by Dahlquist Theorem, it converges. <br><br>\n",
    "\n",
    "For part (b), the characteristic polynomials of $U^{n+2}-3U^{n+1}+2U^n=k(\\frac{1}{2}f_{n+1}-\\frac{3}{2}f_n)$ are <br><br>\n",
    "$\\rho(\\xi)=\\xi^2-3\\xi+2$ and $\\sigma(\\xi)=\\frac{1}{2}\\xi-\\frac{3}{2}$<br><br>\n",
    "$\\rho(1)=1^2-3*1+2=0$<br>\n",
    "$\\rho'(1)=2*1-3=-1=\\frac{1}{2}*1-\\frac{3}{2}=\\sigma(1)$<br>\n",
    "So, the two-step method for part (b) is consistent. <br><br>\n",
    "$\\rho(\\xi)=\\xi^2-3\\xi+2$ has roots $\\xi_1=1$ and $\\xi_2=2$. <br><br>\n",
    "Since $\\mid \\xi_2 \\mid=2 > 1$, we know that even though the two-step method in part (b) is consistent, it is not zero-stable, so it will not converge. "
   ]
  },
  {
   "cell_type": "code",
   "execution_count": null,
   "metadata": {},
   "outputs": [],
   "source": []
  }
 ],
 "metadata": {
  "kernelspec": {
   "display_name": "Python 3",
   "language": "python",
   "name": "python3"
  },
  "language_info": {
   "codemirror_mode": {
    "name": "ipython",
    "version": 3
   },
   "file_extension": ".py",
   "mimetype": "text/x-python",
   "name": "python",
   "nbconvert_exporter": "python",
   "pygments_lexer": "ipython3",
   "version": "3.8.5"
  }
 },
 "nbformat": 4,
 "nbformat_minor": 4
}
