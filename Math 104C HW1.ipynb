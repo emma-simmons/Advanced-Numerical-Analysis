{
 "cells": [
  {
   "cell_type": "markdown",
   "metadata": {},
   "source": [
    "Emma Simmons, Last Modified: 4/15/21"
   ]
  },
  {
   "cell_type": "markdown",
   "metadata": {},
   "source": [
    "$\\textbf{Question 1 Part (a)}$"
   ]
  },
  {
   "cell_type": "code",
   "execution_count": 1,
   "metadata": {},
   "outputs": [],
   "source": [
    "import math\n",
    "import numpy as np\n",
    "\n",
    "# defines the function f(t,u) for number 1\n",
    "# inputs: t is the time, u is the variable  \n",
    "# outputs: returns the value of the function for a given t and u \n",
    "def f1(t,u):\n",
    "    return (-(u**2)-(3*t*u))\n",
    "\n",
    "# defines the forward euler method to solve initial value problem \n",
    "# inputs: f is the function, u0 is the initial value of u, t0 is the first discrete time, T is the last discrete time, \n",
    "# h is the step size\n",
    "# outputs: returns the last value of u, so the solution of the IVP via forward euler at a given value \n",
    "def fwd_euler(f, u0, t0, T, h):\n",
    "    N=int((T-t0)/h)\n",
    "    t=np.linspace(t0,T,N+1)\n",
    "    u=np.zeros(N+1)\n",
    "    u[0]=u0\n",
    "    for i in range(N):\n",
    "        u[i+1]=u[i]+(h*f(t[i],u[i]))\n",
    "    return u[N]\n",
    "        "
   ]
  },
  {
   "cell_type": "code",
   "execution_count": 2,
   "metadata": {},
   "outputs": [
    {
     "name": "stdout",
     "output_type": "stream",
     "text": [
      "For the forward euler method, u^ 0.1 (2)= 0.0011949736823790216\n",
      "For the forward euler method, u^ 0.05 (2)= 0.002783162141813914\n",
      "For the forward euler method, u^ 0.025 (2)= 0.003782074592123238\n",
      "The ratio r= 1.5899175738004796\n"
     ]
    }
   ],
   "source": [
    "for h in [0.1,0.05,0.025]:\n",
    "    print(\"For the forward euler method, u^\",h,\"(2)=\",fwd_euler(f1, 0.5, 1, 2, h)) \n",
    "    \n",
    "top_fe=(fwd_euler(f1, 0.5, 1, 2, 0.1)-fwd_euler(f1, 0.5, 1, 2, 0.05))\n",
    "bottom_fe=(fwd_euler(f1, 0.5, 1, 2, 0.05)-fwd_euler(f1, 0.5, 1, 2, 0.025))\n",
    "ratio_fe=top_fe/bottom_fe\n",
    "print(\"The ratio r=\",ratio_fe)"
   ]
  },
  {
   "cell_type": "markdown",
   "metadata": {},
   "source": [
    "$\\textbf{Question 1 Part (b)}$"
   ]
  },
  {
   "cell_type": "code",
   "execution_count": 3,
   "metadata": {},
   "outputs": [],
   "source": [
    "# defines the function f(t,u) for number 1, backward euler method \n",
    "# inputs: un is the updated value of u, u0 is the old value of u, tn is the updated value of t, h is the step size   \n",
    "# outputs: returns the value of the function for a given un, u0, tn and h\n",
    "def f_be(un, u0, tn ,h):\n",
    "    return un+h*(un**2+3*tn*un)-u0\n",
    "\n",
    "# defines the derivative function df(t,u) for number 1, backward euler method \n",
    "# inputs: un is the updated value of u, tn is the updated value of t, h is the step size   \n",
    "# outputs: returns the value of the derivative function for a given un, tn and h\n",
    "def df_be(un, tn, h):\n",
    "    return 1+h*(2*un+3*tn)\n",
    "\n",
    "# defines Newton's method to find the roots of an equation for backward euler method, question 1 \n",
    "# inputs: u0 is the initial value of u, t, tn is the updated value of t, epsilon is the tolerance, h is the step size\n",
    "# outputs: returns the most updated version of u, which is the root of the equation \n",
    "def newton_method_be(u0, tn, epsilon, h):\n",
    "    un=u0\n",
    "    func=f_be(un, u0, tn, h)\n",
    "    deriv_func=df_be(un, u0, h)\n",
    "    while abs(func/deriv_func)>epsilon:\n",
    "        un=un-(func/deriv_func)\n",
    "        func=f_be(un, u0, tn, h)\n",
    "        deriv_func=df_be(un, u0, h)\n",
    "    return un\n",
    "    \n",
    "# defines the backward euler method to solve initial value problem for question 1\n",
    "# inputs: u0 is the initial value of u, t0 is the first discrete time, T is the last discrete time, h is the step size,\n",
    "# epsilon is the tolerance \n",
    "# outputs: returns the last value of u, so the solution of the IVP via backward euler at a given value \n",
    "def bckwd_euler(u0, t0, T, h, epsilon):\n",
    "    N=int((T-t0)/h)\n",
    "    t=np.linspace(t0,T,N+1)\n",
    "    u=np.zeros(N+1)\n",
    "    u[0]=u0\n",
    "    for i in range(N):\n",
    "        u[i+1]=newton_method_be(u[i], t[i+1],epsilon, h)\n",
    "    return u[N]"
   ]
  },
  {
   "cell_type": "code",
   "execution_count": 4,
   "metadata": {
    "scrolled": true
   },
   "outputs": [
    {
     "name": "stdout",
     "output_type": "stream",
     "text": [
      "For the backward euler method, u^ 0.1 (2)= 0.010260252050469975\n",
      "For the backward euler method, u^ 0.05 (2)= 0.0074227327470851685\n",
      "For the backward euler method, u^ 0.025 (2)= 0.006115369511719269\n",
      "The ratio r= 2.1704138732267877\n"
     ]
    }
   ],
   "source": [
    "for h in [0.1,0.05,0.025]:\n",
    "    print(\"For the backward euler method, u^\",h,\"(2)=\",bckwd_euler(0.5, 1, 2, h, 1e-10)) \n",
    "\n",
    "top_be=(bckwd_euler(0.5, 1, 2, 0.1, 1e-10)-bckwd_euler(0.5, 1, 2, 0.05,1e-10))  \n",
    "bottom_be=(bckwd_euler(0.5, 1, 2, 0.05,1e-10)-bckwd_euler(0.5, 1, 2, 0.025,1e-10))\n",
    "ratio_be=top_be/bottom_be\n",
    "print(\"The ratio r=\",ratio_be)"
   ]
  },
  {
   "cell_type": "markdown",
   "metadata": {},
   "source": [
    "$\\textbf{Question 1 Part (c)}$"
   ]
  },
  {
   "cell_type": "code",
   "execution_count": 5,
   "metadata": {},
   "outputs": [],
   "source": [
    "# defines the function f(t,u) for number 1, trapezoidal method \n",
    "# inputs: un is the updated value of u, u0 is the old value of u, tn is the updated value of t, t0 is the old value of t,\n",
    "# h is the step size   \n",
    "# outputs: returns the value of the function for a given un, u0, tn, t0, and h\n",
    "def f_trap(un, u0, t0 ,h):\n",
    "    tn=t0+h\n",
    "    return un+(h/2)*((u0**2+3*t0*u0)+(un**2+3*tn*un))-u0\n",
    "\n",
    "# defines the derivative function df(t,u) for number 1, trapezoidal method \n",
    "# inputs: un is the updated value of u, t0 is the old value of t, h is the step size   \n",
    "# outputs: returns the value of the derivative function for a given un, t0 and h\n",
    "def df_trap(un, t0, h):\n",
    "    tn=t0+h\n",
    "    return 1+(h/2)*(2*un+3*tn)\n",
    "\n",
    "# defines Newton's method to find the roots of an equation for trapezoidal method, question 1 \n",
    "# inputs: u0 is the initial value of u, tn is the updated value of t, epsilon is the tolerance, h is the step size\n",
    "# outputs: returns the most updated version of u, which is the root of the equation \n",
    "def newton_method_trap(u0, tn, epsilon, h):\n",
    "    un=u0\n",
    "    func=f_trap(un, u0, tn, h)\n",
    "    deriv_func=df_trap(un, u0, h)\n",
    "    while abs(func/deriv_func)>epsilon:\n",
    "        un=un-(func/deriv_func)\n",
    "        func=f_trap(un, u0, tn, h)\n",
    "        deriv_func=df_trap(un, u0, h)\n",
    "    return un\n",
    "\n",
    "# defines the trapezoidal method to solve initial value problem for question 1\n",
    "# inputs: u0 is the initial value of u, t0 is the first discrete time, T is the last discrete time, h is the step size,\n",
    "# epsilon is the tolerance \n",
    "# outputs: returns the last value of u, so the solution of the IVP via trapezoidal method at a given value \n",
    "def trapezoidal(u0, t0, T, h, epsilon):\n",
    "    N=int((T-t0)/h)\n",
    "    t=np.linspace(t0,T,N+1)\n",
    "    u=np.zeros(N+1)\n",
    "    u[0]=u0\n",
    "    t[0]=t0\n",
    "    for i in range(N):\n",
    "        t[i+1]=t[i]+h\n",
    "        u[i+1]=newton_method_trap(u[i], t[i], epsilon, h)\n",
    "    return u[N]\n",
    "    "
   ]
  },
  {
   "cell_type": "code",
   "execution_count": 6,
   "metadata": {},
   "outputs": [
    {
     "name": "stdout",
     "output_type": "stream",
     "text": [
      "For the trapezoidal method, u^ 0.1 (2)= 0.004605087929940215\n",
      "For the trapezoidal method, u^ 0.05 (2)= 0.0048243411834182634\n",
      "For the trapezoidal method, u^ 0.025 (2)= 0.004879209405058707\n",
      "The ratio r= 3.9959970803288547\n"
     ]
    }
   ],
   "source": [
    "for h in [0.1,0.05,0.025]:\n",
    "    print(\"For the trapezoidal method, u^\",h,\"(2)=\",trapezoidal(0.5, 1, 2, h, 1e-10)) \n",
    "top_trap=(trapezoidal(0.5, 1, 2, 0.1, 1e-10)-trapezoidal(0.5, 1, 2, 0.05,1e-10))\n",
    "bottom_trap=(trapezoidal(0.5, 1, 2, 0.05,1e-10)-trapezoidal(0.5, 1, 2, 0.025,1e-10))\n",
    "ratio_tr=top_trap/bottom_trap\n",
    "print(\"The ratio r=\",ratio_tr)"
   ]
  },
  {
   "cell_type": "markdown",
   "metadata": {},
   "source": [
    "$\\textbf{Question 1 Part (d)}$"
   ]
  },
  {
   "cell_type": "code",
   "execution_count": 7,
   "metadata": {},
   "outputs": [],
   "source": [
    "# defines the leapfrog method to solve initial value problem \n",
    "# inputs: f is the function, u0 is the initial value of u, t0 is the first discrete time, T is the last discrete time, \n",
    "# h is the step size\n",
    "# outputs: returns the last value of u, so the solution of the IVP via leapfrog method at a given value \n",
    "def leapfrog(f, u0, t0, T, h):\n",
    "    N=int((T-t0)/h)\n",
    "    t=np.linspace(t0,T,N+1)\n",
    "    u=np.zeros(N+1)\n",
    "    u[0]=u0\n",
    "    t[0]=t0\n",
    "    for i in range(N):\n",
    "        u[1]=u[0]+(h*f(t[0],u[0]))\n",
    "        u[i+1]=u[i-1]+2*h*f(t[i],u[i])\n",
    "    return u[N]"
   ]
  },
  {
   "cell_type": "code",
   "execution_count": 8,
   "metadata": {},
   "outputs": [
    {
     "name": "stdout",
     "output_type": "stream",
     "text": [
      "For the leapfrog method, u^ 0.1 (2)= 1.0830544260849746\n",
      "For the leapfrog method, u^ 0.05 (2)= 0.3619590652271374\n",
      "For the leapfrog method, u^ 0.025 (2)= 0.10168653098916193\n",
      "The ratio r= 2.7705395921588742\n"
     ]
    }
   ],
   "source": [
    "for h in [0.1,0.05,0.025]:\n",
    "    print(\"For the leapfrog method, u^\",h,\"(2)=\",leapfrog(f1, 0.5, 1, 2, h)) \n",
    "top_leap=(leapfrog(f1,0.5, 1, 2, 0.1)-leapfrog(f1, 0.5, 1, 2, 0.05))  \n",
    "bottom_leap=(leapfrog(f1, 0.5, 1, 2, 0.05)-leapfrog(f1, 0.5, 1, 2, 0.025))\n",
    "ratio_leap=top_leap/bottom_leap\n",
    "print(\"The ratio r=\",ratio_leap)"
   ]
  },
  {
   "cell_type": "markdown",
   "metadata": {},
   "source": [
    "$\\textbf{Question 2 Part (a)}$"
   ]
  },
  {
   "cell_type": "markdown",
   "metadata": {},
   "source": [
    "Solve. $u'(t)=-e^{-t}u(t)$, $u(0)=1$ <br>\n",
    "$\\frac{u'(t)}{u(t)}=-e^{-t}$ <br>\n",
    "$\\frac{\\partial u}{\\partial t} \\frac{1}{u(t)}= -e^{-t}$ <br>\n",
    "$\\frac{1}{u(t)}\\partial u= -e^{-t} \\partial t$ <br>\n",
    "$\\int \\frac{1}{u(t)}\\partial u= \\int -e^{-t} \\partial t$ <br>\n",
    "$\\ln{u(t)}=e^{-t}+c$ <br>\n",
    "$u(t)=e^{e^{-t}+c}$ <br>\n",
    "$u(t)=ce^{-t}$ <br> <br>\n",
    "$u(0)=ce^{e^{0}}=1$, <br>\n",
    "$c=\\frac{1}{e}$\n",
    "\n",
    "Hence, <br>\n",
    "$u(t)=e^{-1}e^{e^{-t}}=e^{e^{-t}-1}$"
   ]
  },
  {
   "cell_type": "markdown",
   "metadata": {},
   "source": [
    "$\\textbf{Question 2 Part (b)}$"
   ]
  },
  {
   "cell_type": "code",
   "execution_count": 9,
   "metadata": {},
   "outputs": [
    {
     "name": "stdout",
     "output_type": "stream",
     "text": [
      "For the forward euler method, u^ 0.1 (1)= 0.5018743391386776\n",
      "For the forward euler method, u^ 0.05 (1)= 0.5170033210793948\n",
      "For the forward euler method, u^ 0.025 (1)= 0.524313815571169\n"
     ]
    }
   ],
   "source": [
    "# defines the function f(t,u) for number 2\n",
    "# inputs: t is the time, u is the variable  \n",
    "# outputs: returns the value of the function for a given t and u \n",
    "def f2(t,u):\n",
    "    return -np.exp(-t)*u\n",
    "\n",
    "for h in [0.1,0.05,0.025]:\n",
    "    print(\"For the forward euler method, u^\",h,\"(1)=\",fwd_euler(f2, 1, 0, 1, h)) \n"
   ]
  },
  {
   "cell_type": "code",
   "execution_count": 10,
   "metadata": {},
   "outputs": [
    {
     "name": "stdout",
     "output_type": "stream",
     "text": [
      "For the backward euler method, u^ 0.1 (1)= 0.55857155452037\n",
      "For the backward euler method, u^ 0.05 (1)= 0.5453048615273653\n",
      "For the backward euler method, u^ 0.025 (1)= 0.538458719340317\n"
     ]
    }
   ],
   "source": [
    "# defines the function f(t,u) for number 2, backward euler method \n",
    "# inputs: un is the updated value of u, u0 is the old value of u, tn is the updated value of t, h is the step size   \n",
    "# outputs: returns the value of the function for a given un, u0, tn and h\n",
    "def f2_be(un, u0, tn ,h):\n",
    "    return un+h*(np.exp(-tn)*un)-u0\n",
    "\n",
    "# defines the derivative function df(t,u) for number 2, backward euler method \n",
    "# inputs: un is the updated value of u, tn is the updated value of t, h is the step size   \n",
    "# outputs: returns the value of the derivative function for a given un, tn and h\n",
    "def df2_be(un, tn, h):\n",
    "    return 1+h*(np.exp(-tn))\n",
    "\n",
    "# defines Newton's method to find the roots of an equation for backward euler method, question 2\n",
    "# inputs: u0 is the initial value of u, t, tn is the updated value of t, epsilon is the tolerance, h is the step size\n",
    "# outputs: returns the most updated version of u, which is the root of the equation \n",
    "def newton_method_be2(u0, tn, epsilon, h):\n",
    "    un=u0\n",
    "    func=f2_be(un, u0, tn, h)\n",
    "    deriv_func=df2_be(un, u0, h)\n",
    "    while abs(func/deriv_func)>epsilon:\n",
    "        un=un-(func/deriv_func)\n",
    "        func=f2_be(un, u0, tn, h)\n",
    "        deriv_func=df2_be(un, u0, h)\n",
    "    return un\n",
    "\n",
    "# defines the backward euler method to solve initial value problem for question 2 \n",
    "# inputs: u0 is the initial value of u, t0 is the first discrete time, T is the last discrete time, h is the step size,\n",
    "# epsilon is the tolerance \n",
    "# outputs: returns the last value of u, so the solution of the IVP via backward euler at a given value \n",
    "def bckwd_euler2(u0, t0, T, h, epsilon):\n",
    "    N=int((T-t0)/h)\n",
    "    t=np.linspace(t0,T,N+1)\n",
    "    u=np.zeros(N+1)\n",
    "    u[0]=u0\n",
    "    for i in range(N):\n",
    "        u[i+1]=newton_method_be2(u[i], t[i+1],epsilon, h)\n",
    "    return u[N]\n",
    "\n",
    "for h in [0.1,0.05,0.025]:\n",
    "    print(\"For the backward euler method, u^\",h,\"(1)=\",bckwd_euler2(1, 0, 1, h, 1e-10))"
   ]
  },
  {
   "cell_type": "code",
   "execution_count": 11,
   "metadata": {},
   "outputs": [
    {
     "name": "stdout",
     "output_type": "stream",
     "text": [
      "For the trapezoidal method, u^ 0.1 (1)= 0.5304679254100549\n",
      "For the trapezoidal method, u^ 0.05 (1)= 0.5312148771093382\n",
      "For the trapezoidal method, u^ 0.025 (1)= 0.5314014356947838\n"
     ]
    }
   ],
   "source": [
    "# defines the function f(t,u) for number 2, trapezoidal method \n",
    "# inputs: un is the updated value of u, u0 is the old value of u, t0 is the old value of t, h is the step size   \n",
    "# outputs: returns the value of the function for a given un, u0, t0, and h\n",
    "def f2_trap(un, u0, t0 ,h):\n",
    "    tn=t0+h\n",
    "    return un+(h/2)*((np.exp(-t0)*u0)+(np.exp(-tn)*un))-u0\n",
    "\n",
    "# defines the derivative function df(t,u) for number 2, trapezoidal method \n",
    "# inputs: un is the updated value of u, t0 is the old value of t, h is the step size   \n",
    "# outputs: returns the value of the derivative function for a given un, t0 and h\n",
    "def df2_trap(un, t0, h):\n",
    "    tn=t0+h\n",
    "    return 1+h*np.exp(-tn)\n",
    "\n",
    "# defines Newton's method to find the roots of an equation for trapezoidal method, question 2\n",
    "# inputs: u0 is the initial value of u, tn is the updated value of t, epsilon is the tolerance, h is the step size\n",
    "# outputs: returns the most updated version of u, which is the root of the equation \n",
    "def newton_method_trap2(u0, tn, epsilon, h):\n",
    "    un=u0\n",
    "    func=f2_trap(un, u0, tn, h)\n",
    "    deriv_func=df2_trap(un, u0, h)\n",
    "    while abs(func/deriv_func)>epsilon:\n",
    "        un=un-(func/deriv_func)\n",
    "        func=f2_trap(un, u0, tn, h)\n",
    "        deriv_func=df2_trap(un, u0, h)\n",
    "    return un\n",
    "\n",
    "# defines the trapezoidal method to solve initial value problem for question 2\n",
    "# inputs: u0 is the initial value of u, t0 is the first discrete time, T is the last discrete time, h is the step size,\n",
    "# epsilon is the tolerance \n",
    "# outputs: returns the last value of u, so the solution of the IVP via trapezoidal method at a given value \n",
    "def trapezoidal2(u0, t0, T, h, epsilon):\n",
    "    N=int((T-t0)/h)\n",
    "    t=np.linspace(t0,T,N+1)\n",
    "    u=np.zeros(N+1)\n",
    "    u[0]=u0\n",
    "    t[0]=t0\n",
    "    for i in range(N):\n",
    "        t[i+1]=t[i]+h\n",
    "        u[i+1]=newton_method_trap2(u[i], t[i], epsilon, h)\n",
    "    return u[N]\n",
    "\n",
    "for h in [0.1,0.05,0.025]:\n",
    "    print(\"For the trapezoidal method, u^\",h,\"(1)=\", trapezoidal2(1, 0, 1, h, 1e-10)) "
   ]
  },
  {
   "cell_type": "code",
   "execution_count": 12,
   "metadata": {},
   "outputs": [
    {
     "name": "stdout",
     "output_type": "stream",
     "text": [
      "For the leapfrog method, u^ 0.1 (1)= 0.5400710839050568\n",
      "For the leapfrog method, u^ 0.05 (1)= 0.5336401499626631\n",
      "For the leapfrog method, u^ 0.025 (1)= 0.5320093232968119\n"
     ]
    }
   ],
   "source": [
    "for h in [0.1,0.05,0.025]:\n",
    "    print(\"For the leapfrog method, u^\",h,\"(1)=\",leapfrog(f2, 1, 0, 1, h)) "
   ]
  },
  {
   "cell_type": "markdown",
   "metadata": {},
   "source": [
    "$\\textbf{Question 2 Part (c)}$"
   ]
  },
  {
   "cell_type": "code",
   "execution_count": 13,
   "metadata": {},
   "outputs": [],
   "source": [
    "#defines and a function for the exact solution of u(t)\n",
    "#outputs the exact solution of u(t) at a given t \n",
    "def u(t):\n",
    "    return np.exp(np.exp(-t)-1)"
   ]
  },
  {
   "cell_type": "code",
   "execution_count": 14,
   "metadata": {},
   "outputs": [
    {
     "name": "stdout",
     "output_type": "stream",
     "text": [
      "For the forward euler method, r1= 2.0462437403919163\n",
      "For the forward euler method, r2= 2.022476839246415\n"
     ]
    }
   ],
   "source": [
    "r1_fe=(fwd_euler(f2, 1, 0, 1, 0.1)-u(1))/(fwd_euler(f2, 1, 0, 1, 0.05)-u(1))\n",
    "r2_fe=(fwd_euler(f2, 1, 0, 1, 0.05)-u(1))/(fwd_euler(f2, 1, 0, 1, 0.025)-u(1))\n",
    "print(\"For the forward euler method, r1=\",r1_fe)\n",
    "print(\"For the forward euler method, r2=\",r2_fe)"
   ]
  },
  {
   "cell_type": "code",
   "execution_count": 15,
   "metadata": {},
   "outputs": [
    {
     "name": "stdout",
     "output_type": "stream",
     "text": [
      "For the backward euler method, r1= 1.958489089292011\n",
      "For the backward euler method, r2= 1.9787034539195554\n"
     ]
    }
   ],
   "source": [
    "r1_be=(bckwd_euler2(1, 0, 1, 0.1, 1e-10)-u(1))/(bckwd_euler2(1, 0, 1, 0.05, 1e-10)-u(1))\n",
    "r2_be=(bckwd_euler2(1, 0, 1, 0.05, 1e-10)-u(1))/(bckwd_euler2(1, 0, 1, 0.025, 1e-10)-u(1))\n",
    "print(\"For the backward euler method, r1=\",r1_be)\n",
    "print(\"For the backward euler method, r2=\",r2_be)"
   ]
  },
  {
   "cell_type": "code",
   "execution_count": 16,
   "metadata": {},
   "outputs": [
    {
     "name": "stdout",
     "output_type": "stream",
     "text": [
      "For the trapezoidal method, r1= 4.003083153469684\n",
      "For the trapezoidal method, r2= 4.000796367951663\n"
     ]
    }
   ],
   "source": [
    "r1_trap=(trapezoidal2(1, 0, 1, 0.1, 1e-10)-u(1))/(trapezoidal2(1, 0, 1, 0.05, 1e-10)-u(1))\n",
    "r2_trap=(trapezoidal2(1, 0, 1, 0.05, 1e-10)-u(1))/(trapezoidal2(1, 0, 1, 0.025, 1e-10)-u(1))\n",
    "print(\"For the trapezoidal method, r1=\",r1_trap)\n",
    "print(\"For the trapezoidal method, r2=\",r2_trap)"
   ]
  },
  {
   "cell_type": "code",
   "execution_count": 17,
   "metadata": {},
   "outputs": [
    {
     "name": "stdout",
     "output_type": "stream",
     "text": [
      "For the trapezoidal method, r1= 3.954652991335537\n",
      "For the trapezoidal method, r2= 3.9884059793171844\n"
     ]
    }
   ],
   "source": [
    "r1_leap=(leapfrog(f2, 1, 0, 1, 0.1)-u(1))/(leapfrog(f2, 1, 0, 1, 0.05)-u(1))\n",
    "r2_leap=(leapfrog(f2, 1, 0, 1, 0.05)-u(1))/(leapfrog(f2, 1, 0, 1, 0.025)-u(1))\n",
    "print(\"For the trapezoidal method, r1=\",r1_leap)\n",
    "print(\"For the trapezoidal method, r2=\",r2_leap)"
   ]
  },
  {
   "cell_type": "markdown",
   "metadata": {},
   "source": [
    "The exact solution of $u(1)$ is used in the calculation of ratios $r1$ and $r2$, whereas the ratio $r$ in Question 1 uses entirely numerical approximations in its calculation. Therefore, the ratios $r1$ and $r2$ will be closer to the theoretical ratio than $r$ will be.  "
   ]
  }
 ],
 "metadata": {
  "kernelspec": {
   "display_name": "Python 3",
   "language": "python",
   "name": "python3"
  },
  "language_info": {
   "codemirror_mode": {
    "name": "ipython",
    "version": 3
   },
   "file_extension": ".py",
   "mimetype": "text/x-python",
   "name": "python",
   "nbconvert_exporter": "python",
   "pygments_lexer": "ipython3",
   "version": "3.8.5"
  }
 },
 "nbformat": 4,
 "nbformat_minor": 4
}
